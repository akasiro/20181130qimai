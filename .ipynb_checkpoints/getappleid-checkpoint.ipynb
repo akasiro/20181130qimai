{
 "cells": [
  {
   "cell_type": "code",
   "execution_count": 1,
   "metadata": {},
   "outputs": [],
   "source": [
    "import os\n",
    "import pandas as pd"
   ]
  },
  {
   "cell_type": "code",
   "execution_count": 5,
   "metadata": {},
   "outputs": [
    {
     "name": "stdout",
     "output_type": "stream",
     "text": [
      "D:\\document\\program_and_analysis\\python\\20181130qimai.cn\\data\\output\\data.csv\n"
     ]
    }
   ],
   "source": [
    "csvfile = os.path.join(os.path.dirname(os.getcwd()),'data','output','data.csv')\n",
    "print(csvfile)"
   ]
  },
  {
   "cell_type": "code",
   "execution_count": 13,
   "metadata": {},
   "outputs": [
    {
     "data": {
      "text/html": [
       "<div>\n",
       "<style scoped>\n",
       "    .dataframe tbody tr th:only-of-type {\n",
       "        vertical-align: middle;\n",
       "    }\n",
       "\n",
       "    .dataframe tbody tr th {\n",
       "        vertical-align: top;\n",
       "    }\n",
       "\n",
       "    .dataframe thead th {\n",
       "        text-align: right;\n",
       "    }\n",
       "</style>\n",
       "<table border=\"1\" class=\"dataframe\">\n",
       "  <thead>\n",
       "    <tr style=\"text-align: right;\">\n",
       "      <th></th>\n",
       "      <th>appleid</th>\n",
       "      <th>appname</th>\n",
       "      <th>company</th>\n",
       "      <th>incname</th>\n",
       "      <th>date</th>\n",
       "      <th>ranktype</th>\n",
       "      <th>Unnamed: 6</th>\n",
       "    </tr>\n",
       "  </thead>\n",
       "  <tbody>\n",
       "    <tr>\n",
       "      <th>0</th>\n",
       "      <td>989673964</td>\n",
       "      <td>鐜嬭€呰崳鑰€         ...</td>\n",
       "      <td>Tencent Mobile Games</td>\n",
       "      <td>娣卞湷甯傝吘璁绠楁満绯荤粺鏈夐檺鍏徃</td>\n",
       "      <td>20170101</td>\n",
       "      <td>brand</td>\n",
       "      <td>NaN</td>\n",
       "    </tr>\n",
       "    <tr>\n",
       "      <th>1</th>\n",
       "      <td>1108397779</td>\n",
       "      <td>Fate/Grand Order...</td>\n",
       "      <td>Wuhu Sharejoy Network Technology Co.Ltd</td>\n",
       "      <td>鑺滄箹浜父缃戠粶鎶€鏈湁闄愬叕鍙?20170101</td>\n",
       "      <td>brand</td>\n",
       "      <td>NaN</td>\n",
       "      <td>NaN</td>\n",
       "    </tr>\n",
       "    <tr>\n",
       "      <th>2</th>\n",
       "      <td>895670960</td>\n",
       "      <td>闃撮槼甯?鐐肩嫳璞嫵     ...</td>\n",
       "      <td>缃戞槗绉诲姩娓告垙</td>\n",
       "      <td>缃戞槗锛堟澀宸烇級缃戠粶鏈夐檺鍏徃</td>\n",
       "      <td>20170101</td>\n",
       "      <td>brand</td>\n",
       "      <td>NaN</td>\n",
       "    </tr>\n",
       "    <tr>\n",
       "      <th>3</th>\n",
       "      <td>731871690</td>\n",
       "      <td>鍏ㄦ皯椋炴満澶ф垬       ...</td>\n",
       "      <td>Tencent Mobile Games</td>\n",
       "      <td>娣卞湷甯傝吘璁绠楁満绯荤粺鏈夐檺鍏徃</td>\n",
       "      <td>20170101</td>\n",
       "      <td>brand</td>\n",
       "      <td>NaN</td>\n",
       "    </tr>\n",
       "    <tr>\n",
       "      <th>4</th>\n",
       "      <td>940547441</td>\n",
       "      <td>姊﹀够瑗挎父          ...</td>\n",
       "      <td>缃戞槗绉诲姩娓告垙</td>\n",
       "      <td>缃戞槗锛堟澀宸烇級缃戠粶鏈夐檺鍏徃</td>\n",
       "      <td>20170101</td>\n",
       "      <td>brand</td>\n",
       "      <td>NaN</td>\n",
       "    </tr>\n",
       "  </tbody>\n",
       "</table>\n",
       "</div>"
      ],
      "text/plain": [
       "      appleid                                            appname  \\\n",
       "0   989673964                                鐜嬭€呰崳鑰€         ...   \n",
       "1  1108397779                                Fate/Grand Order...   \n",
       "2   895670960                                闃撮槼甯?鐐肩嫳璞嫵     ...   \n",
       "3   731871690                                鍏ㄦ皯椋炴満澶ф垬       ...   \n",
       "4   940547441                                姊﹀够瑗挎父          ...   \n",
       "\n",
       "                                   company                      incname  \\\n",
       "0                     Tencent Mobile Games        娣卞湷甯傝吘璁绠楁満绯荤粺鏈夐檺鍏徃   \n",
       "1  Wuhu Sharejoy Network Technology Co.Ltd  鑺滄箹浜父缃戠粶鎶€鏈湁闄愬叕鍙?20170101   \n",
       "2                                缃戞槗绉诲姩娓告垙           缃戞槗锛堟澀宸烇級缃戠粶鏈夐檺鍏徃   \n",
       "3                     Tencent Mobile Games        娣卞湷甯傝吘璁绠楁満绯荤粺鏈夐檺鍏徃   \n",
       "4                                缃戞槗绉诲姩娓告垙           缃戞槗锛堟澀宸烇級缃戠粶鏈夐檺鍏徃   \n",
       "\n",
       "       date ranktype Unnamed: 6  \n",
       "0  20170101    brand        NaN  \n",
       "1     brand      NaN        NaN  \n",
       "2  20170101    brand        NaN  \n",
       "3  20170101    brand        NaN  \n",
       "4  20170101    brand        NaN  "
      ]
     },
     "execution_count": 13,
     "metadata": {},
     "output_type": "execute_result"
    }
   ],
   "source": [
    "data = pd.read_csv(csvfile,encoding = 'utf-8')\n",
    "data.head()"
   ]
  },
  {
   "cell_type": "code",
   "execution_count": 15,
   "metadata": {},
   "outputs": [],
   "source": [
    "appleid = list(set(data['appleid'].values.tolist()))"
   ]
  },
  {
   "cell_type": "code",
   "execution_count": 16,
   "metadata": {},
   "outputs": [
    {
     "data": {
      "text/plain": [
       "12701"
      ]
     },
     "execution_count": 16,
     "metadata": {},
     "output_type": "execute_result"
    }
   ],
   "source": [
    "len(appleid)"
   ]
  },
  {
   "cell_type": "code",
   "execution_count": 18,
   "metadata": {},
   "outputs": [],
   "source": [
    "with open(os.path.join(os.path.dirname(os.getcwd()),'data','output','appleid2017.txt'),'a+') as f:\n",
    "    for i in appleid:\n",
    "        f.write('{}\\n'.format(i))\n",
    "        "
   ]
  },
  {
   "cell_type": "code",
   "execution_count": null,
   "metadata": {},
   "outputs": [],
   "source": []
  }
 ],
 "metadata": {
  "kernelspec": {
   "display_name": "Python 3",
   "language": "python",
   "name": "python3"
  },
  "language_info": {
   "codemirror_mode": {
    "name": "ipython",
    "version": 3
   },
   "file_extension": ".py",
   "mimetype": "text/x-python",
   "name": "python",
   "nbconvert_exporter": "python",
   "pygments_lexer": "ipython3",
   "version": "3.6.2"
  }
 },
 "nbformat": 4,
 "nbformat_minor": 2
}
