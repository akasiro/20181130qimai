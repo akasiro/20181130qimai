{
 "cells": [
  {
   "cell_type": "code",
   "execution_count": 1,
   "metadata": {},
   "outputs": [],
   "source": [
    "from bs4 import BeautifulSoup"
   ]
  },
  {
   "cell_type": "code",
   "execution_count": 5,
   "metadata": {},
   "outputs": [],
   "source": [
    "with open('20170101appstorefree1500.html', 'r',encoding = 'utf-8') as f:\n",
    "    text = f.read()"
   ]
  },
  {
   "cell_type": "code",
   "execution_count": 7,
   "metadata": {},
   "outputs": [],
   "source": [
    "soup = BeautifulSoup(text,'html.parser')"
   ]
  },
  {
   "cell_type": "code",
   "execution_count": 10,
   "metadata": {},
   "outputs": [],
   "source": [
    "tbody = soup.find('tbody')"
   ]
  },
  {
   "cell_type": "code",
   "execution_count": 11,
   "metadata": {},
   "outputs": [],
   "source": [
    "trlist = tbody.find_all('tr')"
   ]
  },
  {
   "cell_type": "code",
   "execution_count": 25,
   "metadata": {},
   "outputs": [
    {
     "name": "stdout",
     "output_type": "stream",
     "text": [
      "<tr data-v-10dc7c1c=\"\"><td data-v-10dc7c1c=\"\" style=\"width: 80px;\"><div class=\"index\" data-v-10dc7c1c=\"\">2</div></td><td data-v-10dc7c1c=\"\" style=\"width: 390px;\"><div class=\"app-info-wrap\" data-v-10dc7c1c=\"\"><!-- --><a class=\"icon\" data-v-10dc7c1c=\"\" href=\"/app/rank/appid/1120536875/country/cn\" target=\"_blank\"><img alt=\"贪吃蛇大作战?-等你来战\" data-v-10dc7c1c=\"\" onerror=\"javascript:this.src='https://img-qimai.aso100.com/aso100/201710/06b463b971efff3da8c99764f5933750.png'\" src=\"https://is3-ssl.mzstatic.com/image/thumb/Purple118/v4/44/7f/97/447f97d4-c13e-cd64-5fc2-f1201b179462/AppIcon-1x_U007emarketing-85-220-5.png/180x180bb.png\"/></a><div class=\"app-info\" data-v-10dc7c1c=\"\"><a class=\"name\" data-v-10dc7c1c=\"\" href=\"/app/rank/appid/1120536875/country/cn\" target=\"_blank\">\n",
      "                              贪吃蛇大作战?-等你来战\n",
      "                              </a><p class=\"company\" data-v-10dc7c1c=\"\">Wuhan Weipai Network Technology Co., Ltd.</p></div></div></td><td data-v-10dc7c1c=\"\" style=\"width: 140px;\"><div class=\"rank-wrap rank-total-wrap\" data-v-10dc7c1c=\"\"><p class=\"num total-num\" data-v-10dc7c1c=\"\">27</p><p class=\"rank rank-total rank-hover rank-up\" data-v-10dc7c1c=\"\" title=\"相比昨日总榜上升2名\"><i class=\"icon ivu-icon ivu-icon-arrow-up-b\" data-v-10dc7c1c=\"\"></i><span data-v-10dc7c1c=\"\">2</span></p><!-- --><!-- --></div></td><td data-v-10dc7c1c=\"\" style=\"width: 160px;\"><div class=\"rank-wrap\" data-v-10dc7c1c=\"\"><div class=\"rank-box\" data-v-10dc7c1c=\"\"><p class=\"num\" data-v-10dc7c1c=\"\">2</p><p class=\"category\" data-v-10dc7c1c=\"\">游戏</p></div><p class=\"rank rank-hover rank-up\" data-v-10dc7c1c=\"\" title=\"相比昨日游戏榜上升6名\"><i class=\"icon ivu-icon ivu-icon-arrow-up-b\" data-v-10dc7c1c=\"\"></i><span data-v-10dc7c1c=\"\">6</span></p><!-- --><!-- --></div></td><td data-v-10dc7c1c=\"\" style=\"width: 130px;\"><div class=\"rank-wrap\" data-v-10dc7c1c=\"\"><div class=\"rank-box\" data-v-10dc7c1c=\"\"><p class=\"num no-change\" data-v-10dc7c1c=\"\">-</p><p class=\"category\" data-v-10dc7c1c=\"\">冒险游戏</p></div><!-- --><!-- --><!-- --></div></td><td data-v-10dc7c1c=\"\" style=\"width: 110px;\"><div class=\"index\" data-v-10dc7c1c=\"\" style=\"padding-left: 0px; padding-right: 0px;\">7298</div></td><td data-v-10dc7c1c=\"\" style=\"width: 90px; min-width: 110px;\"><div class=\"index\" data-v-10dc7c1c=\"\">2018-11-25</div></td><td data-v-10dc7c1c=\"\" style=\"width: 220px;\"><a class=\"dark-green\" data-v-10dc7c1c=\"\" href=\"/company/product/id/407\" target=\"_blank\">武汉微派网络科技有限公司</a></td></tr>\n"
     ]
    }
   ],
   "source": [
    "print(trlist[1])"
   ]
  },
  {
   "cell_type": "code",
   "execution_count": 26,
   "metadata": {},
   "outputs": [
    {
     "data": {
      "text/plain": [
       "1499"
      ]
     },
     "execution_count": 26,
     "metadata": {},
     "output_type": "execute_result"
    }
   ],
   "source": [
    "len(trlist)"
   ]
  },
  {
   "cell_type": "code",
   "execution_count": 27,
   "metadata": {},
   "outputs": [],
   "source": [
    "tr = trlist[1]"
   ]
  },
  {
   "cell_type": "code",
   "execution_count": 28,
   "metadata": {},
   "outputs": [],
   "source": [
    "name = tr.find('a',{'class':'name'})"
   ]
  },
  {
   "cell_type": "code",
   "execution_count": 29,
   "metadata": {},
   "outputs": [
    {
     "name": "stdout",
     "output_type": "stream",
     "text": [
      "\n",
      "                              贪吃蛇大作战?-等你来战\n",
      "                               1120536875\n"
     ]
    }
   ],
   "source": [
    "appname = name.get_text()\n",
    "appleid = name['href'].replace('/app/rank/appid/','').replace('/country/cn','')\n",
    "\n",
    "print(appname,appleid)"
   ]
  },
  {
   "cell_type": "code",
   "execution_count": 30,
   "metadata": {},
   "outputs": [
    {
     "name": "stdout",
     "output_type": "stream",
     "text": [
      "Wuhan Weipai Network Technology Co., Ltd.\n"
     ]
    }
   ],
   "source": [
    "company = tr.find('p',{'class':'company'}).get_text()\n",
    "print(company)"
   ]
  },
  {
   "cell_type": "code",
   "execution_count": 31,
   "metadata": {},
   "outputs": [
    {
     "name": "stdout",
     "output_type": "stream",
     "text": [
      "武汉微派网络科技有限公司\n"
     ]
    }
   ],
   "source": [
    "incname = tr.find('a',{'class':'dark-green'}).get_text()\n",
    "print(incname)"
   ]
  },
  {
   "cell_type": "code",
   "execution_count": null,
   "metadata": {},
   "outputs": [],
   "source": []
  }
 ],
 "metadata": {
  "kernelspec": {
   "display_name": "Python 3",
   "language": "python",
   "name": "python3"
  },
  "language_info": {
   "codemirror_mode": {
    "name": "ipython",
    "version": 3
   },
   "file_extension": ".py",
   "mimetype": "text/x-python",
   "name": "python",
   "nbconvert_exporter": "python",
   "pygments_lexer": "ipython3",
   "version": "3.6.2"
  }
 },
 "nbformat": 4,
 "nbformat_minor": 2
}
