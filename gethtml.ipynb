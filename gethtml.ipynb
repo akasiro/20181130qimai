{
 "cells": [
  {
   "cell_type": "code",
   "execution_count": 1,
   "metadata": {},
   "outputs": [],
   "source": [
    "from selenium import webdriver\n",
    "import time"
   ]
  },
  {
   "cell_type": "code",
   "execution_count": 2,
   "metadata": {},
   "outputs": [],
   "source": [
    "driver = webdriver.Chrome()"
   ]
  },
  {
   "cell_type": "code",
   "execution_count": 3,
   "metadata": {},
   "outputs": [],
   "source": [
    "driver.get('https://www.qimai.cn')"
   ]
  },
  {
   "cell_type": "code",
   "execution_count": 14,
   "metadata": {},
   "outputs": [
    {
     "name": "stdout",
     "output_type": "stream",
     "text": [
      "20171201\n"
     ]
    }
   ],
   "source": [
    "for i in range(31):\n",
    "    js = \"window.scrollTo(0,document.body.scrollHeight)\" \n",
    "    driver.execute_script(js)\n",
    "    time.sleep(5)\n",
    "\n",
    "html = driver.page_source\n",
    "\n",
    "nowurl = driver.current_url\n",
    "nowurl = nowurl.replace('https://www.qimai.cn/rank/index/brand/grossing/device/iphone/country/cn/genre/6014/date/','').replace('-','')\n",
    "with open('{}appstorebrand1500.html'.format(nowurl),'a',encoding = 'utf-8') as f:\n",
    "    f.write(html)\n",
    "print(nowurl)"
   ]
  },
  {
   "cell_type": "code",
   "execution_count": 15,
   "metadata": {},
   "outputs": [],
   "source": [
    "driver.quit()"
   ]
  },
  {
   "cell_type": "code",
   "execution_count": 5,
   "metadata": {},
   "outputs": [
    {
     "data": {
      "text/plain": [
       "'https://www.qimai.cn/rank/index/brand/paid/device/iphone/country/cn/genre/6014/date/2017-01-01'"
      ]
     },
     "execution_count": 5,
     "metadata": {},
     "output_type": "execute_result"
    }
   ],
   "source": [
    "driver.current_url"
   ]
  },
  {
   "cell_type": "code",
   "execution_count": 25,
   "metadata": {},
   "outputs": [
    {
     "name": "stdout",
     "output_type": "stream",
     "text": [
      "20170101\n"
     ]
    }
   ],
   "source": [
    "nowurl = driver.current_url\n",
    "nowurl = nowurl.replace('https://www.qimai.cn/rank/index/brand/grossing/device/iphone/country/cn/genre/6014/date/','').replace('-','')\n",
    "print(nowurl)"
   ]
  },
  {
   "cell_type": "code",
   "execution_count": 23,
   "metadata": {},
   "outputs": [
    {
     "name": "stdout",
     "output_type": "stream",
     "text": [
      "20171201\n"
     ]
    }
   ],
   "source": [
    "nowurl = driver.current_url\n",
    "nowurl = nowurl.replace('https://www.qimai.cn/rank/index/brand/paid/device/iphone/country/cn/genre/6014/date/','').replace('-','')\n",
    "with open('{}appstorepaid1500.html'.format(nowurl),'a',encoding = 'utf-8') as f:\n",
    "    f.write(html)\n",
    "print(nowurl)"
   ]
  },
  {
   "cell_type": "code",
   "execution_count": null,
   "metadata": {},
   "outputs": [],
   "source": []
  }
 ],
 "metadata": {
  "kernelspec": {
   "display_name": "Python 3",
   "language": "python",
   "name": "python3"
  },
  "language_info": {
   "codemirror_mode": {
    "name": "ipython",
    "version": 3
   },
   "file_extension": ".py",
   "mimetype": "text/x-python",
   "name": "python",
   "nbconvert_exporter": "python",
   "pygments_lexer": "ipython3",
   "version": "3.6.2"
  }
 },
 "nbformat": 4,
 "nbformat_minor": 2
}
